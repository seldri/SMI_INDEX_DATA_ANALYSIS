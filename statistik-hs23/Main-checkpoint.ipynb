{
 "cells": [
  {
   "cell_type": "markdown",
   "id": "34a7e460ee2c5b1c",
   "metadata": {},
   "source": [
    "# Win Statistik-Vortrag HS23\n",
    "Thema: **Performance des SMI-Index**\n",
    "Berechnung von Lagemassen, Standardabweichung und Simulation des weiteren Verlaufs.\n",
    "\n",
    "Drini Selimaj, Marc Weyermann und Pascal Winter\n"
   ]
  },
  {
   "cell_type": "code",
   "execution_count": 1,
   "id": "a6941a7c65170d63",
   "metadata": {
    "ExecuteTime": {
     "end_time": "2023-11-29T14:00:05.760090Z",
     "start_time": "2023-11-29T14:00:04.110627Z"
    }
   },
   "outputs": [],
   "source": [
    "# Wir verwenden Aliasse für die importierten Libraries um die Leserlichkeit zu verbessen und Verwechslungen zwischen unseren internen Variablen und den Variablen der Libraries vorzubeugen.\n",
    "import pandas as pd\n",
    "import numpy as np\n",
    "import matplotlib.pyplot as plt"
   ]
  },
  {
   "cell_type": "code",
   "execution_count": 2,
   "id": "344a36de95df4e56",
   "metadata": {
    "ExecuteTime": {
     "end_time": "2023-11-29T14:00:05.832845Z",
     "start_time": "2023-11-29T14:00:05.761105Z"
    }
   },
   "outputs": [],
   "source": [
    "# Dateipfad zur CSV-Datei mit den täglichen Indexdaten\n",
    "file_path = 'Data/SMI-Historische-Daten-Tage.csv'\n",
    "\n",
    "# Wir haben auch die monatlichen Daten, welche wir nur zum Testen benutzt haben\n",
    "#file_path = 'Data/SMI-Historische-Daten-Monat.csv'\n",
    "\n",
    "# Die Daten der CSV-Datei in einen DataFrame laden\n",
    "df = pd.read_csv(file_path)\n",
    "\n",
    "# Bereinigen der Spalte 'Zuletzt', um die Punkte zu entfernen, Kommas durch Punkte umzuwandeln und den Datentyp in float zu ändern\n",
    "df['Zuletzt'] = df['Zuletzt'].str.replace('.', '').str.replace(',', '.').astype(float)\n",
    "# Bereinigen der Spalte Veraenderung, um \"%\" Zeichen zu entfernen und Kommas durch Punkte zu ersetzen, damit wir Dezimalzahlen erhalten. Danach /100 Teilen, da wir das % entfernt haben\n",
    "df['Veraenderung'] = df['Veraenderung'].str.replace('%', '').str.replace(',', '.').astype(float) / 100\n",
    "# Die Dezimalzahlen dürfen nicht negativ sein, wegen der Berechnung vom geometrischen Mittel. (Diesen Input haben wir von meinem Kollegen, Maic Rakitta (Master Mathematik ETH), erhalten)\n",
    "df['Indexfaktor'] = df.Veraenderung + 1\n",
    "# Sortierung der Daten nach Datum, um sicherzustellen, dass die Berechnung der täglichen Rendite korrekt ist\n",
    "df['Datum'] = pd.to_datetime(df['Datum'], format='%d.%m.%Y')\n",
    "df = df.sort_values(by='Datum')\n",
    "\n",
    "# Berechnung der täglichen Rendite in absoluten Zahlen\n",
    "df['Taegliche_Rendite_Absolut'] = df['Zuletzt'].diff()"
   ]
  },
  {
   "cell_type": "code",
   "execution_count": 3,
   "id": "b8fca013c6ecf439",
   "metadata": {
    "ExecuteTime": {
     "end_time": "2023-11-29T14:00:05.840130Z",
     "start_time": "2023-11-29T14:00:05.834843Z"
    }
   },
   "outputs": [
    {
     "data": {
      "text/plain": [
       "Datum                        datetime64[ns]\n",
       "Zuletzt                             float64\n",
       "Eröffn.                              object\n",
       "Hoch                                 object\n",
       "Tief                                 object\n",
       "Vol.                                 object\n",
       "Veraenderung                        float64\n",
       "Indexfaktor                         float64\n",
       "Taegliche_Rendite_Absolut           float64\n",
       "dtype: object"
      ]
     },
     "execution_count": 3,
     "metadata": {},
     "output_type": "execute_result"
    }
   ],
   "source": [
    "# Ausgabe der Datentypen um sie zu prüfen\n",
    "df.dtypes"
   ]
  },
  {
   "cell_type": "code",
   "execution_count": 4,
   "id": "a0bad8b517e4ae1",
   "metadata": {
    "ExecuteTime": {
     "end_time": "2023-11-29T14:00:05.852919Z",
     "start_time": "2023-11-29T14:00:05.837992Z"
    }
   },
   "outputs": [
    {
     "data": {
      "text/html": [
       "<div>\n",
       "<style scoped>\n",
       "    .dataframe tbody tr th:only-of-type {\n",
       "        vertical-align: middle;\n",
       "    }\n",
       "\n",
       "    .dataframe tbody tr th {\n",
       "        vertical-align: top;\n",
       "    }\n",
       "\n",
       "    .dataframe thead th {\n",
       "        text-align: right;\n",
       "    }\n",
       "</style>\n",
       "<table border=\"1\" class=\"dataframe\">\n",
       "  <thead>\n",
       "    <tr style=\"text-align: right;\">\n",
       "      <th></th>\n",
       "      <th>Datum</th>\n",
       "      <th>Zuletzt</th>\n",
       "      <th>Eröffn.</th>\n",
       "      <th>Hoch</th>\n",
       "      <th>Tief</th>\n",
       "      <th>Vol.</th>\n",
       "      <th>Veraenderung</th>\n",
       "      <th>Indexfaktor</th>\n",
       "      <th>Taegliche_Rendite_Absolut</th>\n",
       "    </tr>\n",
       "  </thead>\n",
       "  <tbody>\n",
       "    <tr>\n",
       "      <th>2700</th>\n",
       "      <td>2013-01-03</td>\n",
       "      <td>7020.46</td>\n",
       "      <td>6.975,16</td>\n",
       "      <td>7.020,46</td>\n",
       "      <td>6.970,80</td>\n",
       "      <td>51,04M</td>\n",
       "      <td>0.0290</td>\n",
       "      <td>1.0290</td>\n",
       "      <td>NaN</td>\n",
       "    </tr>\n",
       "    <tr>\n",
       "      <th>2699</th>\n",
       "      <td>2013-01-04</td>\n",
       "      <td>7058.92</td>\n",
       "      <td>7.015,48</td>\n",
       "      <td>7.059,12</td>\n",
       "      <td>7.004,58</td>\n",
       "      <td>29,55M</td>\n",
       "      <td>0.0055</td>\n",
       "      <td>1.0055</td>\n",
       "      <td>38.46</td>\n",
       "    </tr>\n",
       "    <tr>\n",
       "      <th>2698</th>\n",
       "      <td>2013-01-07</td>\n",
       "      <td>7049.30</td>\n",
       "      <td>7.062,40</td>\n",
       "      <td>7.073,13</td>\n",
       "      <td>7.049,20</td>\n",
       "      <td>40,93M</td>\n",
       "      <td>-0.0014</td>\n",
       "      <td>0.9986</td>\n",
       "      <td>-9.62</td>\n",
       "    </tr>\n",
       "    <tr>\n",
       "      <th>2697</th>\n",
       "      <td>2013-01-08</td>\n",
       "      <td>7074.52</td>\n",
       "      <td>7.051,37</td>\n",
       "      <td>7.088,53</td>\n",
       "      <td>7.046,25</td>\n",
       "      <td>38,61M</td>\n",
       "      <td>0.0036</td>\n",
       "      <td>1.0036</td>\n",
       "      <td>25.22</td>\n",
       "    </tr>\n",
       "    <tr>\n",
       "      <th>2696</th>\n",
       "      <td>2013-01-09</td>\n",
       "      <td>7151.60</td>\n",
       "      <td>7.097,81</td>\n",
       "      <td>7.152,64</td>\n",
       "      <td>7.094,95</td>\n",
       "      <td>50,99M</td>\n",
       "      <td>0.0109</td>\n",
       "      <td>1.0109</td>\n",
       "      <td>77.08</td>\n",
       "    </tr>\n",
       "    <tr>\n",
       "      <th>...</th>\n",
       "      <td>...</td>\n",
       "      <td>...</td>\n",
       "      <td>...</td>\n",
       "      <td>...</td>\n",
       "      <td>...</td>\n",
       "      <td>...</td>\n",
       "      <td>...</td>\n",
       "      <td>...</td>\n",
       "      <td>...</td>\n",
       "    </tr>\n",
       "    <tr>\n",
       "      <th>4</th>\n",
       "      <td>2023-09-25</td>\n",
       "      <td>11014.26</td>\n",
       "      <td>10.990,89</td>\n",
       "      <td>11.068,53</td>\n",
       "      <td>10.963,37</td>\n",
       "      <td>20,23M</td>\n",
       "      <td>0.0000</td>\n",
       "      <td>1.0000</td>\n",
       "      <td>-0.50</td>\n",
       "    </tr>\n",
       "    <tr>\n",
       "      <th>3</th>\n",
       "      <td>2023-09-26</td>\n",
       "      <td>10953.70</td>\n",
       "      <td>10.969,51</td>\n",
       "      <td>11.004,73</td>\n",
       "      <td>10.918,17</td>\n",
       "      <td>26,05M</td>\n",
       "      <td>-0.0055</td>\n",
       "      <td>0.9945</td>\n",
       "      <td>-60.56</td>\n",
       "    </tr>\n",
       "    <tr>\n",
       "      <th>2</th>\n",
       "      <td>2023-09-27</td>\n",
       "      <td>10882.31</td>\n",
       "      <td>10.976,80</td>\n",
       "      <td>11.022,49</td>\n",
       "      <td>10.866,59</td>\n",
       "      <td>28,69M</td>\n",
       "      <td>-0.0065</td>\n",
       "      <td>0.9935</td>\n",
       "      <td>-71.39</td>\n",
       "    </tr>\n",
       "    <tr>\n",
       "      <th>1</th>\n",
       "      <td>2023-09-28</td>\n",
       "      <td>10917.79</td>\n",
       "      <td>10.893,50</td>\n",
       "      <td>10.917,79</td>\n",
       "      <td>10.814,94</td>\n",
       "      <td>20,22M</td>\n",
       "      <td>0.0033</td>\n",
       "      <td>1.0033</td>\n",
       "      <td>35.48</td>\n",
       "    </tr>\n",
       "    <tr>\n",
       "      <th>0</th>\n",
       "      <td>2023-09-29</td>\n",
       "      <td>10963.50</td>\n",
       "      <td>10.951,55</td>\n",
       "      <td>11.044,82</td>\n",
       "      <td>10.948,20</td>\n",
       "      <td>25,77M</td>\n",
       "      <td>0.0042</td>\n",
       "      <td>1.0042</td>\n",
       "      <td>45.71</td>\n",
       "    </tr>\n",
       "  </tbody>\n",
       "</table>\n",
       "<p>2701 rows × 9 columns</p>\n",
       "</div>"
      ],
      "text/plain": [
       "          Datum   Zuletzt    Eröffn.       Hoch       Tief    Vol.  \\\n",
       "2700 2013-01-03   7020.46   6.975,16   7.020,46   6.970,80  51,04M   \n",
       "2699 2013-01-04   7058.92   7.015,48   7.059,12   7.004,58  29,55M   \n",
       "2698 2013-01-07   7049.30   7.062,40   7.073,13   7.049,20  40,93M   \n",
       "2697 2013-01-08   7074.52   7.051,37   7.088,53   7.046,25  38,61M   \n",
       "2696 2013-01-09   7151.60   7.097,81   7.152,64   7.094,95  50,99M   \n",
       "...         ...       ...        ...        ...        ...     ...   \n",
       "4    2023-09-25  11014.26  10.990,89  11.068,53  10.963,37  20,23M   \n",
       "3    2023-09-26  10953.70  10.969,51  11.004,73  10.918,17  26,05M   \n",
       "2    2023-09-27  10882.31  10.976,80  11.022,49  10.866,59  28,69M   \n",
       "1    2023-09-28  10917.79  10.893,50  10.917,79  10.814,94  20,22M   \n",
       "0    2023-09-29  10963.50  10.951,55  11.044,82  10.948,20  25,77M   \n",
       "\n",
       "      Veraenderung  Indexfaktor  Taegliche_Rendite_Absolut  \n",
       "2700        0.0290       1.0290                        NaN  \n",
       "2699        0.0055       1.0055                      38.46  \n",
       "2698       -0.0014       0.9986                      -9.62  \n",
       "2697        0.0036       1.0036                      25.22  \n",
       "2696        0.0109       1.0109                      77.08  \n",
       "...            ...          ...                        ...  \n",
       "4           0.0000       1.0000                      -0.50  \n",
       "3          -0.0055       0.9945                     -60.56  \n",
       "2          -0.0065       0.9935                     -71.39  \n",
       "1           0.0033       1.0033                      35.48  \n",
       "0           0.0042       1.0042                      45.71  \n",
       "\n",
       "[2701 rows x 9 columns]"
      ]
     },
     "execution_count": 4,
     "metadata": {},
     "output_type": "execute_result"
    }
   ],
   "source": [
    "#Ausgabe der Daten um die Manipulation der Werte zu prüfen\n",
    "df"
   ]
  },
  {
   "cell_type": "code",
   "execution_count": 5,
   "id": "4fa44847a851203e",
   "metadata": {
    "ExecuteTime": {
     "end_time": "2023-11-29T14:00:05.863525Z",
     "start_time": "2023-11-29T14:00:05.854149Z"
    }
   },
   "outputs": [],
   "source": [
    "#Funktion um Werte zu runden\n",
    "def round_number_return(number, decimal): #Zwei Parameter werden für das Runden mitgegeben: Der Wert und die Anzahl Dezimalstellen auf die zu runden ist\n",
    "    rounded_number = np.round(number,decimal)\n",
    "    return rounded_number"
   ]
  },
  {
   "cell_type": "markdown",
   "id": "47ae851b0d0533d0",
   "metadata": {},
   "source": [
    "## Aufgabe a)\n",
    "Bestimmen Sie den Median der empirischen Renditeverteilung."
   ]
  },
  {
   "cell_type": "code",
   "execution_count": 6,
   "id": "1bacb93ae566ecf3",
   "metadata": {
    "ExecuteTime": {
     "end_time": "2023-11-29T14:00:05.864207Z",
     "start_time": "2023-11-29T14:00:05.856685Z"
    }
   },
   "outputs": [
    {
     "name": "stdout",
     "output_type": "stream",
     "text": [
      "Der Median der Renditeverteilung beträgt: CHF 5.1\n"
     ]
    }
   ],
   "source": [
    "# Funktion zum Berechnen des Medians der Renditeverteilung\n",
    "def calculate_median_return(df, column): #Zwei Parameter werden mitgegeben: Der Datenframe und der Spaltenname für die Berechnung\n",
    "    # Median der Renditeverteilung berechnen\n",
    "    median_return = df[column].median()\n",
    "    return median_return\n",
    "\n",
    "# Median berechnen und ausgeben\n",
    "median_return = calculate_median_return(df, \"Taegliche_Rendite_Absolut\")\n",
    "print(f\"Der Median der Renditeverteilung beträgt: CHF {round_number_return(median_return,2)}\")"
   ]
  },
  {
   "cell_type": "markdown",
   "id": "ca280a30d1931649",
   "metadata": {},
   "source": [
    "## Aufgabe b)\n",
    "Bestimmen Sie das erste Quartil der Renditeverteilung."
   ]
  },
  {
   "cell_type": "code",
   "execution_count": 7,
   "id": "70901999988071b0",
   "metadata": {
    "ExecuteTime": {
     "end_time": "2023-11-29T14:00:05.864426Z",
     "start_time": "2023-11-29T14:00:05.859283Z"
    }
   },
   "outputs": [
    {
     "name": "stdout",
     "output_type": "stream",
     "text": [
      "Das erste Quartil der Renditeverteilung beträgt: CHF -43.51\n"
     ]
    }
   ],
   "source": [
    "# Funktion zum Berechnen des ersten Quartils der Renditeverteilung\n",
    "def calculate_first_quartile_return(df, column): # Zwei Parameter werden mitgegeben: Der Datenframe und der Spaltenname für die Berechnung\n",
    "    # Erstes Quartil der Renditeverteilung berechnen\n",
    "    first_quartile = df[column].quantile(0.25)\n",
    "    return first_quartile\n",
    "\n",
    "# Erstes Quartil berechnen und ausgeben\n",
    "first_quartile = calculate_first_quartile_return(df, \"Taegliche_Rendite_Absolut\")\n",
    "print(f\"Das erste Quartil der Renditeverteilung beträgt: CHF {round_number_return(first_quartile,2)}\")"
   ]
  },
  {
   "cell_type": "markdown",
   "id": "49ed6911510bac2a",
   "metadata": {},
   "source": [
    "## Aufgabe c)\n",
    "Das arithmetische Mittel der diskreten Renditen wird berechnet, falls die erwartete Rendite in zukünftigen Tagen (ex ante) zu schätzen ist.\n",
    " Bestimmen Sie dieses mit den verfügbaren Daten."
   ]
  },
  {
   "cell_type": "code",
   "execution_count": 8,
   "id": "f72f15971bded45a",
   "metadata": {
    "ExecuteTime": {
     "end_time": "2023-11-29T14:00:05.893379Z",
     "start_time": "2023-11-29T14:00:05.862558Z"
    }
   },
   "outputs": [
    {
     "name": "stdout",
     "output_type": "stream",
     "text": [
      "Das arithmetische Mittel der Renditen beträgt: CHF 1.46\n"
     ]
    }
   ],
   "source": [
    "# Funktion zum Berechnen des arithmetischen Mittels der Renditen\n",
    "def calculate_arithmetic_mean_return(df, column): # Zwei Parameter werden mitgegeben: Der Datenframe und der Spaltenname für die Berechnung\n",
    "    # Arithmetisches Mittel der Renditeverteilung berechnen\n",
    "    mean_return = df[column].mean()\n",
    "    return mean_return\n",
    "\n",
    "# Arithmetisches Mittel berechnen und ausgeben\n",
    "mean_return = calculate_arithmetic_mean_return(df, \"Taegliche_Rendite_Absolut\")\n",
    "mean_return2 = calculate_arithmetic_mean_return(df, \"Indexfaktor\")\n",
    "print(f\"Das arithmetische Mittel der Renditen beträgt: CHF {round_number_return(mean_return,2)}\")"
   ]
  },
  {
   "cell_type": "markdown",
   "id": "b75aebc366f2a6bb",
   "metadata": {},
   "source": [
    "Wir geben das arithmetische Mittel der Rendite auch in Prozent aus, damit wir es mit dem geometrischen Mittel vergleichen können. Das geometrische Mittel muss immer kleiner sein als das arithmetische Mittel\n",
    "\n",
    "Arithmetisch >= Geometrisch, siehe [Ungleichung vom arithmetischen und geometrischen Mittel](https://de.wikipedia.org/wiki/Ungleichung_vom_arithmetischen_und_geometrischen_Mittel)"
   ]
  },
  {
   "cell_type": "code",
   "execution_count": 9,
   "id": "50a76e535089fb0b",
   "metadata": {
    "ExecuteTime": {
     "end_time": "2023-11-29T14:00:05.894699Z",
     "start_time": "2023-11-29T14:00:05.864675Z"
    }
   },
   "outputs": [
    {
     "name": "stdout",
     "output_type": "stream",
     "text": [
      "Das arithmetische Mittel der Renditen prozentual beträgt: 0.0222%\n"
     ]
    }
   ],
   "source": [
    "print(f\"Das arithmetische Mittel der Renditen prozentual beträgt: {round_number_return((mean_return2-1)*100,4)}%\")"
   ]
  },
  {
   "cell_type": "markdown",
   "id": "27c78eaafd59b22a",
   "metadata": {},
   "source": [
    "## Aufgabe d)\n",
    "Das geometrische Mittel diskreter Renditen wird berechnet, falls die tatsächliche Performance (ex post) zu ermitteln ist.\n",
    "Bestimmen Sie dieses mittels Anfangs- und Endwert des SMI."
   ]
  },
  {
   "cell_type": "code",
   "execution_count": 10,
   "id": "245d846da085091a",
   "metadata": {
    "ExecuteTime": {
     "end_time": "2023-11-29T14:00:05.900912Z",
     "start_time": "2023-11-29T14:00:05.866951Z"
    }
   },
   "outputs": [
    {
     "name": "stdout",
     "output_type": "stream",
     "text": [
      "Das geometrische Mittel der Renditen prozentual beträgt: 0.0176%\n"
     ]
    }
   ],
   "source": [
    "# Wir haben dies zuerst mit ChatGPT versucht, jedoch hat er uns immer einen Code Snippet für die mittlere Wachstumsrate ausgegeben. Den Input dies mit pow umzusetzen, damit wir die Formel für das geometrische Mittel verwenden können, haben wir von Maic Rakitta erhalten.\n",
    "\n",
    "# Funktion zum Berechnen des geometrischen Mittels der Renditen\n",
    "def calculate_geometric_mean_return(df, column): #Zwei Parameter werden mitgegeben: Der Datenframe und der Spaltenname für die Berechnung\n",
    "    # Anzahl der Datensätze berechnen\n",
    "    n = len(df)\n",
    "    # Alles miteinander multiplizieren\n",
    "    product = df[column].prod()\n",
    "    # n-te Wurzel ziehen\n",
    "    geometric_mean_return = pow(product, 1/n)\n",
    "    return geometric_mean_return\n",
    "\n",
    "# Geometrisches Mittel berechnen und ausgeben\n",
    "geometric_mean_return = calculate_geometric_mean_return(df, \"Indexfaktor\")\n",
    "print(f\"Das geometrische Mittel der Renditen prozentual beträgt: {round_number_return((geometric_mean_return-1)*100,4)}%\")"
   ]
  },
  {
   "cell_type": "markdown",
   "id": "5d017c2b038d8acf",
   "metadata": {},
   "source": [
    "## Aufgabe e)\n",
    "Schätzen Sie die Standardabweichung (Volatilität) der SMI-Tagesrenditen"
   ]
  },
  {
   "cell_type": "code",
   "execution_count": 11,
   "id": "2ff374ab9aea4798",
   "metadata": {
    "ExecuteTime": {
     "end_time": "2023-11-29T14:00:05.901360Z",
     "start_time": "2023-11-29T14:00:05.869689Z"
    }
   },
   "outputs": [
    {
     "name": "stdout",
     "output_type": "stream",
     "text": [
      "Die Standardabweichung der Rendite beträgt: CHF 90.0693\n"
     ]
    }
   ],
   "source": [
    "# Funktion zum Berechnen der Standardabweichung\n",
    "def calculate_standard_deviation_return(df, column): # Zwei Parameter werden mitgegeben: Der Datenframe und der Spaltenname für die Berechnung\n",
    "    # Standardabweichung berechnen\n",
    "    standard_deviation = df[column].std()\n",
    "    return standard_deviation\n",
    "\n",
    "# Standardabweichung berechnen\n",
    "standard_deviation = calculate_standard_deviation_return(df, \"Taegliche_Rendite_Absolut\")\n",
    "print(f\"Die Standardabweichung der Rendite beträgt: CHF {round_number_return(standard_deviation,4)}\")"
   ]
  },
  {
   "cell_type": "markdown",
   "id": "11ca975901940e63",
   "metadata": {},
   "source": [
    "## Aufgabe e)\n",
    "und simulieren Sie den weiteren Verlauf des SMI."
   ]
  },
  {
   "cell_type": "code",
   "execution_count": 12,
   "id": "a5526ae584534165",
   "metadata": {
    "ExecuteTime": {
     "end_time": "2023-11-29T14:00:06.076864Z",
     "start_time": "2023-11-29T14:00:05.873704Z"
    }
   },
   "outputs": [
    {
     "data": {
      "image/png": "[encoded data removed]",
      "text/plain": [
       "<Figure size 1400x700 with 1 Axes>"
      ]
     },
     "metadata": {},
     "output_type": "display_data"
    }
   ],
   "source": [
    "# Die Idee haben wir während des Unterrichts der Grossklasse Statistik gehört, da die Renditen Normalverteilt sind und anscheinend die Banken bzw. Versicherungen auch ±Standardabweichung für die Risikoanalyse benutzen. Ein Code Snippet haben wir von ChatGPT erhalten und für unsere Zwecke angepasst.\n",
    "\n",
    "# Funktion zum Berechnen und Zeichnen der Simulation\n",
    "def simulated_prices(df, mean_return, standard_deviation, forecast_days, freq): # 5 Parameter werden mitgegeben: Der Datenframe, das arithmetische Mittel, die Standardabweichung, die Zeitspanne für den Forcast und das Intervall für die Berechnung   \n",
    "    # Der letzte Indexwert\n",
    "    last_index_value = df['Zuletzt'].iloc[-1]\n",
    "    # Generierung der Werte für die zu generierenden Tage\n",
    "    expected_values = [last_index_value + mean_return * i for i in range(forecast_days)]\n",
    "    # Generierung der Werte -1 Standardabweichung\n",
    "    lower_bound = [value - standard_deviation for value in expected_values]\n",
    "    # Generierung der Werte +1 Standardabweichung\n",
    "    upper_bound = [value + standard_deviation for value in expected_values]\n",
    "    \n",
    "    # Erstellung des Plots (14 Breit, 7 hoch)\n",
    "    plt.figure(figsize=(14, 7))\n",
    "    \n",
    "    # Zeichnen der Indexwerte\n",
    "    plt.plot(df['Datum'], df['Zuletzt'], label='Tatsächlicher Kurswert')\n",
    "    # Zeichnen der erwarteten Werte\n",
    "    plt.plot(pd.date_range(df['Datum'].iloc[-1], periods=forecast_days, freq=freq), expected_values, label='Erwarteter Verlauf', color='orange')\n",
    "    # Zeichnen der oberen und unteren Grenze und füllen des Bereichs (±Standardabweichung)\n",
    "    plt.fill_between(pd.date_range(df['Datum'].iloc[-1], periods=forecast_days, freq=freq), lower_bound, upper_bound, color='orange', alpha=0.3, label='±1 Standardabweichung')\n",
    "    \n",
    "    # Hinzufügen von Titel und Legende\n",
    "    plt.title('Erwarteter Kursverlauf des SMI ')\n",
    "    plt.xlabel('Datum')\n",
    "    plt.ylabel('Kurswert')\n",
    "    plt.legend()\n",
    "    plt.show()\n",
    "\n",
    "    return forecast_days\n",
    "\n",
    "# Verlauf simulieren (extrapolieren)\n",
    "simulation = simulated_prices(df, mean_return, standard_deviation,800, 'D')\n",
    "\n",
    "# Dieser Code wird benutzt, wenn wir die monatlichen Renditen verwenden wollen\n",
    "#simulation = simulated_prices(df, mean_return, standard_deviation,48, 'M')"
   ]
  }
 ],
 "metadata": {
  "kernelspec": {
   "display_name": "Python 3 (ipykernel)",
   "language": "python",
   "name": "python3"
  },
  "language_info": {
   "codemirror_mode": {
    "name": "ipython",
    "version": 3
   },
   "file_extension": ".py",
   "mimetype": "text/x-python",
   "name": "python",
   "nbconvert_exporter": "python",
   "pygments_lexer": "ipython3",
   "version": "3.11.5"
  }
 },
 "nbformat": 4,
 "nbformat_minor": 5
}
